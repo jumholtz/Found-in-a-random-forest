{
 "cells": [
  {
   "cell_type": "markdown",
   "metadata": {},
   "source": [
    "# Found in a Random Forest \n",
    "**AI Academy: Semester 2 Capstone Project**\n",
    "\n",
    "This notebook contains a business case, information and an evaluation of the dataset, and the decision tree and random forest analytical models.\n"
   ]
  },
  {
   "cell_type": "markdown",
   "metadata": {},
   "source": [
    "# Business Case\n"
   ]
  },
  {
   "cell_type": "markdown",
   "metadata": {},
   "source": [
    "According to the Federal Trade Commission (FTC), in 2021 more than $5.8 billion was lost due to report fraud [(Mayfield, 2022)](https://www.ftc.gov/news-events/news/press-releases/2022/02/new-data-shows-ftc-received-28-million-fraud-reports-consumers-2021-0). All organizations, governments, and private citizens are at risk of becoming victims to fraud. In 2021, there was over 995,000 reports of imposter scams, over 390,000 reports of government documents and/or benefts fraud, and almost 390,000 reports of credit card fraud [(FTC Consumer Sentinel Network, 2022)](https://public.tableau.com/app/profile/federal.trade.commission/viz/TheBigViewAllSentinelReports/TrendsOverTime).\n",
    "\n",
    "\n",
    "The supervised machine learning models below can be leveraged to help detect and prevent financial fraud; specifically, credit card fraud. By detecting and preventing financial fraud, organizations, individuals, and even governments can protect their assets from bad actors.\n",
    "\n"
   ]
  },
  {
   "cell_type": "markdown",
   "metadata": {},
   "source": [
    "# Dataset: Credit Card Fraud Detection [(Kaggle)](https://www.kaggle.com/datasets/mlg-ulb/creditcardfraud?datasetId=310&sortBy=voteCount)\n",
    "\n",
    "The dataset used contains transactions made by credit cards in September 2013 by European cardholders. The dataset presents 284,807 transactions, of which 492 were fraudulent. As this dataset contains real-world credit card transactions, it his highly suitable for tackling financial fraud.\n",
    "\n",
    "The dataset will require minimal preprocessing as it only contains numerical input variables. 29 of 31 features have already undergone a PCA transformation. Of note, due to confidentiality reasons, the only labeled features are 'Time' and 'Amount', which are the two that have not undergone PCA. The rest are labeled as V1 - V28. Feature 'Class' is the response variable as it indicates if the transaction was deemed fraudulent with 1 being fraudulent and 0 being legitimate.\n",
    "\n",
    "**Variable Information:**\n",
    "- There are no 'null' values.\n",
    "- 0.17% of transactions are fraudulent; therefore, the dataset is highly imbalanced.\n",
    "- The mean of the transaction amount is approximately 88 (the currency is not provided). \n",
    "- **MORE DESCRIPTIVE STATISTICS**"
   ]
  },
  {
   "cell_type": "markdown",
   "metadata": {},
   "source": [
    "# Code\n",
    "The two supervised machine learning modules that I decided to employ is a decision tree and a random forest analytical module. These modules work well with classification problems. \n",
    "\n",
    "The code found below includes the following steps:\n",
    "- Importing of libraries and the Kaggle dataset\n",
    "- Basic EDA\n",
    "- Decision Tree Module\n",
    "- Random Forest Module\n",
    "- Optimizing using GridSearchCV\n",
    "- Feature Importance and Plots"
   ]
  },
  {
   "cell_type": "markdown",
   "metadata": {},
   "source": [
    "# Imports"
   ]
  },
  {
   "cell_type": "code",
   "execution_count": null,
   "metadata": {},
   "outputs": [],
   "source": []
  }
 ],
 "metadata": {
  "kernelspec": {
   "display_name": "Python (learn-env)",
   "language": "python",
   "name": "learn-env"
  },
  "language_info": {
   "codemirror_mode": {
    "name": "ipython",
    "version": 3
   },
   "file_extension": ".py",
   "mimetype": "text/x-python",
   "name": "python",
   "nbconvert_exporter": "python",
   "pygments_lexer": "ipython3",
   "version": "3.8.5"
  },
  "toc": {
   "base_numbering": 1,
   "nav_menu": {},
   "number_sections": true,
   "sideBar": true,
   "skip_h1_title": false,
   "title_cell": "Table of Contents",
   "title_sidebar": "Contents",
   "toc_cell": false,
   "toc_position": {},
   "toc_section_display": true,
   "toc_window_display": false
  },
  "varInspector": {
   "cols": {
    "lenName": 16,
    "lenType": 16,
    "lenVar": 40
   },
   "kernels_config": {
    "python": {
     "delete_cmd_postfix": "",
     "delete_cmd_prefix": "del ",
     "library": "var_list.py",
     "varRefreshCmd": "print(var_dic_list())"
    },
    "r": {
     "delete_cmd_postfix": ") ",
     "delete_cmd_prefix": "rm(",
     "library": "var_list.r",
     "varRefreshCmd": "cat(var_dic_list()) "
    }
   },
   "types_to_exclude": [
    "module",
    "function",
    "builtin_function_or_method",
    "instance",
    "_Feature"
   ],
   "window_display": false
  }
 },
 "nbformat": 4,
 "nbformat_minor": 4
}
